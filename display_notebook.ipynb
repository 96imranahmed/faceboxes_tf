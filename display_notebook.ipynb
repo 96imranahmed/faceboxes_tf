{
 "cells": [
  {
   "cell_type": "code",
   "execution_count": 1,
   "metadata": {},
   "outputs": [],
   "source": [
    "import matplotlib.pyplot as plt\n",
    "import matplotlib\n",
    "import itertools\n",
    "import numpy as np\n",
    "import anchors\n",
    "%matplotlib notebook"
   ]
  },
  {
   "cell_type": "code",
   "execution_count": 10,
   "metadata": {
    "scrolled": false
   },
   "outputs": [],
   "source": [
    "centers, boxes = anchors.get_anchor_boxes(1024, 1024, 32, 32, 32, 32, 4)\n",
    "centers = np.array(centers)\n",
    "centers = np.reshape(centers, (-1, 2))\n",
    "# plt.scatter(centers[:, 0], centers[:, 1], 0.5)\n",
    "# ax = plt.gca()\n",
    "# ax.set_xlim([-0.2, 1.2]) # Set consistent with OpenCV\n",
    "# ax.set_ylim([1.2, -0.2]) # Set consistent with OpenCV\n",
    "# patch = matplotlib.patches.Rectangle((0, 0), 1, 1,linewidth=0.5,edgecolor='r',facecolor='none')\n",
    "# ax.add_patch(patch)\n",
    "# box_shape = boxes.shape\n",
    "# for w, h, a in itertools.product(range(box_shape[0]), range(box_shape[1]), range(box_shape[2])):\n",
    "#     c_p = boxes[w, h, a]\n",
    "#     box_new = anchors.transform_ltbr_to_lbwh(c_p)\n",
    "#     patch_cur = matplotlib.patches.Rectangle(box_new[0:2], box_new[2], box_new[3],linewidth=0.2,edgecolor='g',facecolor='none')\n",
    "#     ax.add_patch(patch_cur)\n",
    "# plt.show()"
   ]
  },
  {
   "cell_type": "code",
   "execution_count": null,
   "metadata": {},
   "outputs": [],
   "source": []
  }
 ],
 "metadata": {
  "kernelspec": {
   "display_name": "Python 3",
   "language": "python",
   "name": "python3"
  },
  "language_info": {
   "codemirror_mode": {
    "name": "ipython",
    "version": 3
   },
   "file_extension": ".py",
   "mimetype": "text/x-python",
   "name": "python",
   "nbconvert_exporter": "python",
   "pygments_lexer": "ipython3",
   "version": "3.6.3"
  }
 },
 "nbformat": 4,
 "nbformat_minor": 2
}
