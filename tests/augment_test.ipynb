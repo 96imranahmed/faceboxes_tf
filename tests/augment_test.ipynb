{
 "cells": [
  {
   "cell_type": "code",
   "execution_count": 1,
   "metadata": {},
   "outputs": [],
   "source": [
    "import cv2\n",
    "import sys\n",
    "sys.path.append(\"../\")\n",
    "import data\n",
    "from matplotlib import pyplot as plt\n",
    "import numpy as np\n",
    "import matplotlib\n",
    "import pickle\n",
    "import anchors\n",
    "%matplotlib notebook"
   ]
  },
  {
   "cell_type": "code",
   "execution_count": 2,
   "metadata": {},
   "outputs": [],
   "source": [
    "data_train = pickle.load(file = open('../wider_train.p', 'rb'))"
   ]
  },
  {
   "cell_type": "code",
   "execution_count": 3,
   "metadata": {
    "scrolled": true
   },
   "outputs": [],
   "source": [
    "svc = data.DataService(data_train, False, '../../WIDER/train_images/', (1024, 1024))\n",
    "imgs, lbls, imgs_orig, lbls_orig = svc.random_sample(10, ret_orig = True)\n",
    "CONFIG = [[1024, 1024, 32, 32, 32, 32, 4], \n",
    "          [1024, 1024, 32, 32, 64, 64, 2],\n",
    "          [1024, 1024, 32, 32, 128, 128, 1],\n",
    "          [1024, 1024, 64, 64, 256, 256, 1],\n",
    "          [1024, 1024, 128, 128, 512, 512, 1]] \n",
    "boxes_vec, boxes_lst, stubs = anchors.get_boxes(CONFIG)"
   ]
  },
  {
   "cell_type": "code",
   "execution_count": 4,
   "metadata": {},
   "outputs": [],
   "source": [
    "# ID = 3\n",
    "# img_c = imgs_orig[ID].copy()\n",
    "# for box in lbls_orig[ID]:\n",
    "#     cv2.rectangle(img_c, (int(box[0]),int(box[1])), (int(box[2]), int(box[3])), (0,255,0), 3)\n",
    "# plt.figure()\n",
    "# plt.imshow(img_c)\n",
    "# plt.show()\n",
    "# img_d = imgs[ID].copy()\n",
    "# for box in lbls[ID]:\n",
    "#     cv2.rectangle(img_d, (int(box[0]),int(box[1])), (int(box[2]), int(box[3])), (0,255,0), 3)\n",
    "# plt.figure()\n",
    "# plt.imshow(img_d)\n",
    "# plt.show()"
   ]
  },
  {
   "cell_type": "code",
   "execution_count": 5,
   "metadata": {
    "scrolled": true
   },
   "outputs": [],
   "source": [
    "locs, confs = anchors.encode_batch(boxes_vec, lbls, 0.25)\n",
    "confs = np.eye(2)[np.squeeze(confs).astype(int)]\n",
    "lbls_dec = anchors.decode_batch(boxes_vec, locs, confs)"
   ]
  },
  {
   "cell_type": "code",
   "execution_count": 7,
   "metadata": {
    "scrolled": true
   },
   "outputs": [
    {
     "data": {
      "text/plain": [
       "0.9995705305899347"
      ]
     },
     "execution_count": 7,
     "metadata": {},
     "output_type": "execute_result"
    }
   ],
   "source": [
    "anchors.compute_mAP(imgs, lbls, lbls_dec)"
   ]
  }
 ],
 "metadata": {
  "kernelspec": {
   "display_name": "Python 3",
   "language": "python",
   "name": "python3"
  },
  "language_info": {
   "codemirror_mode": {
    "name": "ipython",
    "version": 3
   },
   "file_extension": ".py",
   "mimetype": "text/x-python",
   "name": "python",
   "nbconvert_exporter": "python",
   "pygments_lexer": "ipython3",
   "version": "3.6.3"
  }
 },
 "nbformat": 4,
 "nbformat_minor": 2
}
