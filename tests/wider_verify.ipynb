{
 "cells": [
  {
   "cell_type": "code",
   "execution_count": 17,
   "metadata": {},
   "outputs": [],
   "source": [
    "import pickle\n",
    "train = pickle.load(file = open('../wider_train.p', 'rb'))"
   ]
  },
  {
   "cell_type": "code",
   "execution_count": 18,
   "metadata": {},
   "outputs": [
    {
     "name": "stdout",
     "output_type": "stream",
     "text": [
      "w [1050  142 1076  192] 54--Rescue/54_Rescue_rescuepeople_54_29.jpg\n",
      "\n"
     ]
    }
   ],
   "source": [
    "for idx, ele in enumerate(train):\n",
    "    for bb in ele['bbox']:\n",
    "        if bb[1] < 0 or bb[3] > ele['hwc'][0]: \n",
    "            print('h', bb, ele['file_path'])\n",
    "        if bb[0] < 0 or bb[2] > ele['hwc'][1]: \n",
    "            print('w', bb, ele['file_path'])"
   ]
  }
 ],
 "metadata": {
  "kernelspec": {
   "display_name": "Python 3",
   "language": "python",
   "name": "python3"
  },
  "language_info": {
   "codemirror_mode": {
    "name": "ipython",
    "version": 3
   },
   "file_extension": ".py",
   "mimetype": "text/x-python",
   "name": "python",
   "nbconvert_exporter": "python",
   "pygments_lexer": "ipython3",
   "version": "3.6.3"
  }
 },
 "nbformat": 4,
 "nbformat_minor": 2
}
