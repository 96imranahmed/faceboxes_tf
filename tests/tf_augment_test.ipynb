{
 "cells": [
  {
   "cell_type": "code",
   "execution_count": 1,
   "metadata": {},
   "outputs": [],
   "source": [
    "import cv2\n",
    "import sys\n",
    "sys.path.append(\"../\")\n",
    "import data\n",
    "from matplotlib import pyplot as plt\n",
    "import numpy as np\n",
    "import matplotlib\n",
    "import pickle\n",
    "import anchors\n",
    "import augmenter\n",
    "import tensorflow as tf\n",
    "%matplotlib notebook"
   ]
  },
  {
   "cell_type": "code",
   "execution_count": null,
   "metadata": {},
   "outputs": [],
   "source": [
    "def print_image(img_in, boxes, normalised = False, anchors = None):\n",
    "    img = img_in.copy()\n",
    "    plt.figure(figsize = (3, 3))\n",
    "    h, w, _ = img.shape\n",
    "    for box in boxes:\n",
    "        if normalised:\n",
    "            cv2.rectangle(img, (int(box[0]*h),int(box[1]*w)), (int(box[2]*h), int(box[3]*w)), (0,255,0), 3)                \n",
    "        else:\n",
    "            cv2.rectangle(img, (int(box[0]),int(box[1])), (int(box[2]), int(box[3])), (0,255,0), 3)\n",
    "    if anchors is not None:\n",
    "        for box in anchors:\n",
    "            if normalised:\n",
    "                cv2.rectangle(img, (int(box[0]*h),int(box[1]*w)), (int(box[2]*h), int(box[3]*w)), (255,0,0), 3)                \n",
    "            else:\n",
    "                cv2.rectangle(img, (int(box[0]*h),int(box[1]*w)), (int(box[2]*h), int(box[3]*w)), (255,0,0), 3)                \n",
    "    plt.imshow(img)\n",
    "    plt.show()"
   ]
  },
  {
   "cell_type": "code",
   "execution_count": null,
   "metadata": {},
   "outputs": [],
   "source": [
    "config = tf.ConfigProto()\n",
    "config.gpu_options.allow_growth = True\n",
    "sess = tf.Session(config=config)\n",
    "gpu_aug = augmenter.AugmenterGPU(sess, (1024, 1024))\n",
    "sess.run(tf.global_variables_initializer())"
   ]
  },
  {
   "cell_type": "code",
   "execution_count": null,
   "metadata": {},
   "outputs": [],
   "source": [
    "norm = False\n",
    "data_train = pickle.load(file = open('../wider_train.p', 'rb'))\n",
    "svc = data.DataService(data_train, False, '../../WIDER/train_images/', (1024, 1024), normalised = norm)"
   ]
  },
  {
   "cell_type": "markdown",
   "metadata": {},
   "source": [
    "### Verify Rotate"
   ]
  },
  {
   "cell_type": "code",
   "execution_count": null,
   "metadata": {},
   "outputs": [],
   "source": [
    "# i = 2\n",
    "# lbl = lbls[i].copy()\n",
    "# ang = r_params[i]['ang']\n",
    "# cos = np.cos(ang)\n",
    "# sin = np.sin(ang)\n",
    "# w_h = lbl[:, 2:]-lbl[:, :2]\n",
    "# centers = (lbl[:, 2:] + lbl[:, :2])/2\n",
    "# w_h_n = np.matmul([[cos, sin], [sin, cos]], w_h.T).T\n",
    "# centers_off = np.array(centers - np.tile([512, 512], [lbl.shape[0], 1]), np.float64)\n",
    "# rot_mat = np.array([[cos, sin],\n",
    "#                     [-sin, cos]])\n",
    "# centers_new_c = np.matmul(rot_mat, centers_off.T).T\n",
    "# centers_new = centers_new_c + np.tile([512, 512], [lbl.shape[0], 1])\n",
    "# box_out = np.concatenate([centers_new - w_h_n/2, centers_new + w_h_n/2], axis = 1)\n",
    "# print_image(imgs_rot[i], box_out, normalised = False)"
   ]
  },
  {
   "cell_type": "markdown",
   "metadata": {},
   "source": [
    "### Show Augment"
   ]
  },
  {
   "cell_type": "code",
   "execution_count": null,
   "metadata": {},
   "outputs": [],
   "source": [
    "imgs, lbls = svc.random_sample(30, ret_raw = True)\n",
    "imgs_rot, lbls_rot, r_params = gpu_aug.augment_batch(imgs, lbls)"
   ]
  },
  {
   "cell_type": "code",
   "execution_count": null,
   "metadata": {},
   "outputs": [],
   "source": [
    "i = 2\n",
    "print(r_params[i])\n",
    "print_image(imgs[i], lbls[i], normalised = False)\n",
    "print_image(imgs_rot[i], lbls_rot[i], normalised = False)"
   ]
  },
  {
   "cell_type": "code",
   "execution_count": null,
   "metadata": {
    "scrolled": true
   },
   "outputs": [],
   "source": [
    "# i = 9\n",
    "# print(r_params[i])\n",
    "# print_image(imgs[i], lbls[i], normalised = False)\n",
    "# print_image(imgs_rot[i], lbls_rot[i], normalised = False)"
   ]
  },
  {
   "cell_type": "code",
   "execution_count": null,
   "metadata": {},
   "outputs": [],
   "source": []
  }
 ],
 "metadata": {
  "kernelspec": {
   "display_name": "Python 3",
   "language": "python",
   "name": "python3"
  },
  "language_info": {
   "codemirror_mode": {
    "name": "ipython",
    "version": 3
   },
   "file_extension": ".py",
   "mimetype": "text/x-python",
   "name": "python",
   "nbconvert_exporter": "python",
   "pygments_lexer": "ipython3",
   "version": "3.6.3"
  }
 },
 "nbformat": 4,
 "nbformat_minor": 2
}
